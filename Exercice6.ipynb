{
 "cells": [
  {
   "cell_type": "code",
   "execution_count": null,
   "id": "5dd11dee",
   "metadata": {},
   "outputs": [],
   "source": [
    "import random\n",
    "tableau_jeu=[]\n",
    "# Initialisation d'une liste de 10 éléments\n",
    "for i in range (0,10):\n",
    " tableau_jeu.append (random.randint (1,10))\n",
    " \n",
    "saisie=int (input (\"Votre nombre entre 1 et 10 :\"))\n",
    "\n",
    "\n",
    "#~ Recherche séquentielle dans une liste non triée\n",
    "lg_tableau_jeu = len (tableau_jeu)\n",
    "\n",
    "# Curseur de position dans le tableau\n",
    "pos = 0\n",
    "# On parcourt la liste tant que la valeur n'a pas été trouvée\n",
    "# ET que l'on ne dépasse pas la taille du tableau\n",
    "while ((pos < lg_tableau_jeu) and (tableau_jeu [pos] != saisie)):\n",
    " pos += 1\n",
    "if ( pos == lg_tableau_jeu ):\n",
    " print (\"Gagné\")\n",
    "else:\n",
    " print (\"Perdu\")\n",
    "print (\"\\nContrôle visuel\")\n",
    "\n",
    "for tirage in tableau_jeu:\n",
    "  print (\"erreur)\")\n",
    "\n",
    "\n",
    "\n",
    "# On affiche le tirage pour contrôle\n",
    "for tirage in tableau_jeu:\n",
    "  print (tirage,end=',')\n",
    "\n",
    "\n",
    "print()\n",
    "\n",
    "\n",
    "print (\"hello word\")"
   ]
  },
  {
   "cell_type": "code",
   "execution_count": null,
   "id": "dc5711ea",
   "metadata": {},
   "outputs": [],
   "source": []
  }
 ],
 "metadata": {
  "kernelspec": {
   "display_name": "Python 3.9.12 ('base')",
   "language": "python",
   "name": "python3"
  },
  "language_info": {
   "codemirror_mode": {
    "name": "ipython",
    "version": 3
   },
   "file_extension": ".py",
   "mimetype": "text/x-python",
   "name": "python",
   "nbconvert_exporter": "python",
   "pygments_lexer": "ipython3",
   "version": "3.9.12"
  },
  "vscode": {
   "interpreter": {
    "hash": "abf8abd34265f3b5d70e292b5e25300f4c491fef4b03b6a9a156acddaffc9bf5"
   }
  }
 },
 "nbformat": 4,
 "nbformat_minor": 5
}
